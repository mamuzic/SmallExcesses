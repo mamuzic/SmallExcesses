{
 "cells": [
  {
   "cell_type": "markdown",
   "id": "222e7f90-0830-4dc0-89f4-c8b674b0cbcf",
   "metadata": {},
   "source": [
    "# Develop code for SE analysis"
   ]
  },
  {
   "cell_type": "code",
   "execution_count": 5,
   "id": "4aa952e0-a021-4647-8c7f-77659165738a",
   "metadata": {},
   "outputs": [
    {
     "name": "stdout",
     "output_type": "stream",
     "text": [
      "/opt/anaconda3/envs/seenv/bin/python\n",
      "/opt/anaconda3/envs/seenv\n"
     ]
    }
   ],
   "source": [
    "#!conda init\n",
    "#!conda activate seenv\n",
    "import sys, os\n",
    "print(sys.executable)                 # expect .../envs/seenv/bin/python\n",
    "print(os.environ.get(\"CONDA_PREFIX\")) # expect .../envs/seenv\n",
    "import se_helpers"
   ]
  }
 ],
 "metadata": {
  "kernelspec": {
   "display_name": "Python (seenv)",
   "language": "python",
   "name": "seenv"
  },
  "language_info": {
   "codemirror_mode": {
    "name": "ipython",
    "version": 3
   },
   "file_extension": ".py",
   "mimetype": "text/x-python",
   "name": "python",
   "nbconvert_exporter": "python",
   "pygments_lexer": "ipython3",
   "version": "3.11.11"
  }
 },
 "nbformat": 4,
 "nbformat_minor": 5
}
